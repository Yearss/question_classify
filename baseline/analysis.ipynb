{
 "cells": [
  {
   "cell_type": "code",
   "execution_count": 1,
   "metadata": {
    "collapsed": true
   },
   "outputs": [],
   "source": [
    "import pandas as pd"
   ]
  },
  {
   "cell_type": "code",
   "execution_count": 2,
   "metadata": {
    "collapsed": true
   },
   "outputs": [],
   "source": [
    "train = pd.read_csv(\"../input/train_.csv\")"
   ]
  },
  {
   "cell_type": "code",
   "execution_count": 4,
   "metadata": {},
   "outputs": [
    {
     "data": {
      "text/html": [
       "<div>\n",
       "<style scoped>\n",
       "    .dataframe tbody tr th:only-of-type {\n",
       "        vertical-align: middle;\n",
       "    }\n",
       "\n",
       "    .dataframe tbody tr th {\n",
       "        vertical-align: top;\n",
       "    }\n",
       "\n",
       "    .dataframe thead th {\n",
       "        text-align: right;\n",
       "    }\n",
       "</style>\n",
       "<table border=\"1\" class=\"dataframe\">\n",
       "  <thead>\n",
       "    <tr style=\"text-align: right;\">\n",
       "      <th></th>\n",
       "      <th>qid</th>\n",
       "      <th>question_text</th>\n",
       "      <th>target</th>\n",
       "    </tr>\n",
       "  </thead>\n",
       "  <tbody>\n",
       "    <tr>\n",
       "      <th>97269</th>\n",
       "      <td>db564b6bdd967678fefd</td>\n",
       "      <td>Why are men so egoistic?</td>\n",
       "      <td>1</td>\n",
       "    </tr>\n",
       "    <tr>\n",
       "      <th>167118</th>\n",
       "      <td>594f2d9556fd399f98a4</td>\n",
       "      <td>Are Britishers born arrogant and egoistic?</td>\n",
       "      <td>1</td>\n",
       "    </tr>\n",
       "    <tr>\n",
       "      <th>220793</th>\n",
       "      <td>d9771f2ef759957332ef</td>\n",
       "      <td>Many people claim that Donald Trump ran for pr...</td>\n",
       "      <td>1</td>\n",
       "    </tr>\n",
       "    <tr>\n",
       "      <th>522485</th>\n",
       "      <td>d43495414fb1a2252e82</td>\n",
       "      <td>Why are communists so egoistic eg if you throw...</td>\n",
       "      <td>1</td>\n",
       "    </tr>\n",
       "    <tr>\n",
       "      <th>550598</th>\n",
       "      <td>3d0d9a62a29d41b92410</td>\n",
       "      <td>Why are the people of Andhra Pradesh, mainly G...</td>\n",
       "      <td>1</td>\n",
       "    </tr>\n",
       "    <tr>\n",
       "      <th>784167</th>\n",
       "      <td>6e43011725d3654d90be</td>\n",
       "      <td>Are we Indian more egoistic than others?</td>\n",
       "      <td>1</td>\n",
       "    </tr>\n",
       "    <tr>\n",
       "      <th>792593</th>\n",
       "      <td>fd20cba2a37b0b358f62</td>\n",
       "      <td>Why are Indian men (Gen x and earlier) so egoi...</td>\n",
       "      <td>1</td>\n",
       "    </tr>\n",
       "    <tr>\n",
       "      <th>840127</th>\n",
       "      <td>5211762b8532a5fa11ac</td>\n",
       "      <td>Why are many administrators of the age 50-70, ...</td>\n",
       "      <td>1</td>\n",
       "    </tr>\n",
       "    <tr>\n",
       "      <th>915219</th>\n",
       "      <td>b804932a4e324c97f4d0</td>\n",
       "      <td>Why does the public not think that transexual ...</td>\n",
       "      <td>1</td>\n",
       "    </tr>\n",
       "    <tr>\n",
       "      <th>1146931</th>\n",
       "      <td>fac99eb5fec7ecb63ceb</td>\n",
       "      <td>What do Mainland Europeans think of blockbuste...</td>\n",
       "      <td>1</td>\n",
       "    </tr>\n",
       "  </tbody>\n",
       "</table>\n",
       "</div>"
      ],
      "text/plain": [
       "                          qid  \\\n",
       "97269    db564b6bdd967678fefd   \n",
       "167118   594f2d9556fd399f98a4   \n",
       "220793   d9771f2ef759957332ef   \n",
       "522485   d43495414fb1a2252e82   \n",
       "550598   3d0d9a62a29d41b92410   \n",
       "784167   6e43011725d3654d90be   \n",
       "792593   fd20cba2a37b0b358f62   \n",
       "840127   5211762b8532a5fa11ac   \n",
       "915219   b804932a4e324c97f4d0   \n",
       "1146931  fac99eb5fec7ecb63ceb   \n",
       "\n",
       "                                             question_text  target  \n",
       "97269                             Why are men so egoistic?       1  \n",
       "167118          Are Britishers born arrogant and egoistic?       1  \n",
       "220793   Many people claim that Donald Trump ran for pr...       1  \n",
       "522485   Why are communists so egoistic eg if you throw...       1  \n",
       "550598   Why are the people of Andhra Pradesh, mainly G...       1  \n",
       "784167            Are we Indian more egoistic than others?       1  \n",
       "792593   Why are Indian men (Gen x and earlier) so egoi...       1  \n",
       "840127   Why are many administrators of the age 50-70, ...       1  \n",
       "915219   Why does the public not think that transexual ...       1  \n",
       "1146931  What do Mainland Europeans think of blockbuste...       1  "
      ]
     },
     "execution_count": 4,
     "metadata": {},
     "output_type": "execute_result"
    }
   ],
   "source": [
    "train[(train[\"target\"]==1)&(train.question_text.str.contains(\"egoistic\"))]"
   ]
  },
  {
   "cell_type": "code",
   "execution_count": null,
   "metadata": {
    "collapsed": true
   },
   "outputs": [],
   "source": []
  }
 ],
 "metadata": {
  "kernelspec": {
   "display_name": "Python [conda env:reinforce_learning]",
   "language": "python",
   "name": "conda-env-reinforce_learning-py"
  },
  "language_info": {
   "codemirror_mode": {
    "name": "ipython",
    "version": 3
   },
   "file_extension": ".py",
   "mimetype": "text/x-python",
   "name": "python",
   "nbconvert_exporter": "python",
   "pygments_lexer": "ipython3",
   "version": "3.6.2"
  }
 },
 "nbformat": 4,
 "nbformat_minor": 2
}
